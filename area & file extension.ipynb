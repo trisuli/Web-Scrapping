{
 "cells": [
  {
   "cell_type": "code",
   "execution_count": 1,
   "metadata": {},
   "outputs": [
    {
     "name": "stdout",
     "output_type": "stream",
     "text": [
      "enter the radius of circle3\n",
      "the area of circle with radius :  3.0  is :  28.259999999999998 square units\n"
     ]
    }
   ],
   "source": [
    "r = float(input(\"enter the radius of circle\"))\n",
    "area = 3.14*r*r\n",
    "print(\"the area of circle with radius : \",r,\" is : \",area,\"square units\")"
   ]
  },
  {
   "cell_type": "code",
   "execution_count": 1,
   "metadata": {},
   "outputs": [
    {
     "name": "stdout",
     "output_type": "stream",
     "text": [
      "Input the filename : abc.py\n",
      "The extension of the file is :  py\n"
     ]
    }
   ],
   "source": [
    "filename = input(\"Input the filename : \")\n",
    "x = filename.split(\".\")\n",
    "print(\"The extension of the file is : \",x[-1])"
   ]
  },
  {
   "cell_type": "code",
   "execution_count": null,
   "metadata": {},
   "outputs": [],
   "source": []
  }
 ],
 "metadata": {
  "kernelspec": {
   "display_name": "Python 3",
   "language": "python",
   "name": "python3"
  },
  "language_info": {
   "codemirror_mode": {
    "name": "ipython",
    "version": 3
   },
   "file_extension": ".py",
   "mimetype": "text/x-python",
   "name": "python",
   "nbconvert_exporter": "python",
   "pygments_lexer": "ipython3",
   "version": "3.8.5"
  }
 },
 "nbformat": 4,
 "nbformat_minor": 4
}
